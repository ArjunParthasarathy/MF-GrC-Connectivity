{
 "cells": [
  {
   "cell_type": "code",
   "execution_count": 1,
   "id": "5103cfcc",
   "metadata": {},
   "outputs": [],
   "source": [
    "import sys\n",
    "import numpy as np\n",
    "import gzip\n",
    "import pickle\n",
    "from collections import defaultdict\n",
    "import copy\n",
    "\n",
    "def load(networkx_path):\n",
    "    with gzip.open(networkx_path, 'rb') as f:\n",
    "        G = pickle.load(f)\n",
    "    return G"
   ]
  },
  {
   "cell_type": "code",
   "execution_count": 2,
   "id": "fea656ad",
   "metadata": {},
   "outputs": [],
   "source": [
    "G = load('../graph_mf_grc_binary_210519.gz')"
   ]
  },
  {
   "cell_type": "markdown",
   "id": "1876419f",
   "metadata": {},
   "source": [
    "Test NetworkX graph_mf_grc_binary_210519.gz by running a share counting analysis code.\n",
    "\n",
    "This code was adapted from https://github.com/htem/cb2_project_analysis/blob/main/analysis/mf_grc_analysis/share_distribution/distribution_123share_bouton_210516.ipynb\n",
    "\n",
    "Note that the results and plots are slightly different because we used a more recent version of the proofreadings."
   ]
  },
  {
   "cell_type": "code",
   "execution_count": 9,
   "id": "5704c4e0",
   "metadata": {},
   "outputs": [],
   "source": [
    "# Define an ROI box (in nm). We do this for 2 reasons:\n",
    "# 1. Specify where GrCs and MFs were densely proofread.\n",
    "# 2. Exclude counting GrCs near the edges of the EM volume.\n",
    "#    This is because GrCs near the edges are missing GrC partners that we cannot observe.\n",
    "# Note that we use all neurons for counting, but we only count sharing statistics of the GrCs within the ROI.\n",
    "# Also note there is no restriction for the Y axis.\n",
    "\n",
    "# For Z, we count GrCs of the inner 10um out of the available ~50um.\n",
    "z_min = 19800\n",
    "z_max = 29800\n",
    "\n",
    "# In X dimension, GrCs are fully reconstructed and proofread from 90k to 150k\n",
    "# MFs are from 70k to 160k. Here we conservatively use an even smaller ROI:\n",
    "x_min = 105*1000*4\n",
    "x_max = 135*1000*4"
   ]
  },
  {
   "cell_type": "code",
   "execution_count": 4,
   "id": "680a61ab",
   "metadata": {},
   "outputs": [],
   "source": [
    "# Get grc and mf lists\n",
    "all_grcs = []\n",
    "all_boutons = []\n",
    "for n in G.nodes():\n",
    "    if G.nodes[n]['cell_type'] == 'grc':\n",
    "        all_grcs.append(n)\n",
    "    else:\n",
    "        all_boutons.append(n)"
   ]
  },
  {
   "cell_type": "code",
   "execution_count": 6,
   "id": "776d519a",
   "metadata": {},
   "outputs": [
    {
     "name": "stdout",
     "output_type": "stream",
     "text": [
      "{'xyz': (344532, 408012, 5640), 'cell_type': 'grc'}\n",
      "['mf_0__0', 'mf_181__1', 'mf_52__2', 'mf_63__3']\n"
     ]
    }
   ],
   "source": [
    "# Quick check by printing a random GrC and its connected MFs\n",
    "# For syntax, see: https://networkx.org/documentation/stable/reference/classes/digraph.html\n",
    "for n in all_grcs:\n",
    "    print(G.nodes[n])\n",
    "    print(list(G.predecessors(n)))\n",
    "    break"
   ]
  },
  {
   "cell_type": "code",
   "execution_count": 7,
   "id": "b7f9f715",
   "metadata": {},
   "outputs": [
    {
     "name": "stdout",
     "output_type": "stream",
     "text": [
      "211\n",
      "defaultdict(<class 'int'>, {0: 819377, 2: 897, 1: 13560, 3: 37, 4: 1})\n",
      "282\n"
     ]
    }
   ],
   "source": [
    "n_randoms = 5\n",
    "replication_hist2 = defaultdict(int)\n",
    "grc_ids = set()\n",
    "mf_ids = set()\n",
    "replicated_2shares = defaultdict(int)\n",
    "\n",
    "def get_prob(in_graph, unique_count=False, return_counted=False):\n",
    "    n_common_pairs = 0\n",
    "    processed = set()\n",
    "    total_n_pairs = 0\n",
    "    hist = defaultdict(int)\n",
    "    n = 0\n",
    "    counted_grcs = 0\n",
    "    for grc_i_id in all_grcs:\n",
    "        n += 1\n",
    "        grc_i = in_graph.nodes[grc_i_id]\n",
    "        x, y, z = grc_i['xyz']\n",
    "        if x < x_min or x > x_max:\n",
    "            continue\n",
    "        if z < z_min or z > z_max:\n",
    "            continue\n",
    "        counted_grcs += 1\n",
    "        grc_ids.add(grc_i_id)\n",
    "        rosettes_i = set(list(in_graph.predecessors(grc_i_id)))\n",
    "        for r in rosettes_i:\n",
    "            mf_ids.add(r)\n",
    "        for grc_j_id in all_grcs:\n",
    "            if grc_i_id == grc_j_id:\n",
    "                continue\n",
    "            if unique_count and (grc_i_id, grc_j_id) in processed:\n",
    "                continue\n",
    "            processed.add((grc_i_id, grc_j_id))\n",
    "            processed.add((grc_j_id, grc_i_id))\n",
    "            grc_j = in_graph.nodes[grc_j_id]\n",
    "            x, y, z = grc_j['xyz']\n",
    "            common_rosettes = set(list(in_graph.predecessors(grc_j_id)))\n",
    "            common_rosettes = common_rosettes & rosettes_i\n",
    "            hist[len(common_rosettes)] += 1\n",
    "            if len(common_rosettes) == 2:\n",
    "                replication_hist2[grc_i_id] += 1\n",
    "                common_rosettes = tuple(sorted(list(common_rosettes)))\n",
    "                replicated_2shares[common_rosettes] += 1\n",
    "    for k in hist:\n",
    "        # fix 0 data point for log plots\n",
    "        if hist[k] == 0:\n",
    "            hist[k] = 1\n",
    "    if return_counted:\n",
    "        return hist, counted_grcs\n",
    "    else:\n",
    "        return hist\n",
    "\n",
    "input_observed = copy.deepcopy(G)\n",
    "hist_data, n_grcs = get_prob(input_observed, return_counted=True)\n",
    "\n",
    "print(n_grcs)\n",
    "print(hist_data)\n",
    "print(len(mf_ids))"
   ]
  },
  {
   "cell_type": "code",
   "execution_count": 8,
   "id": "6e547eec",
   "metadata": {},
   "outputs": [
    {
     "name": "stdout",
     "output_type": "stream",
     "text": [
      "Height: 4, Aspect: 2\n"
     ]
    },
    {
     "data": {
      "image/png": "[encoded data removed]",
      "text/plain": [
       "<Figure size 800x400 with 1 Axes>"
      ]
     },
     "metadata": {},
     "output_type": "display_data"
    },
    {
     "data": {
      "text/plain": [
       "<seaborn.axisgrid.FacetGrid at 0x7fd00b7f7dc0>"
      ]
     },
     "execution_count": 8,
     "metadata": {},
     "output_type": "execute_result"
    }
   ],
   "source": [
    "sys.path.insert(0, '../../analysis')\n",
    "import my_plot\n",
    "import importlib\n",
    "importlib.reload(my_plot)\n",
    "from my_plot import MyPlotData, my_box_plot\n",
    "\n",
    "script_n = 'analysis_grc_input_sharing'\n",
    "\n",
    "replication_hist2_list = []\n",
    "for grc in grc_ids:\n",
    "    if grc in replication_hist2:\n",
    "        replication_hist2_list.append((grc, replication_hist2[grc]))\n",
    "    else:\n",
    "        replication_hist2_list.append((grc, 0))\n",
    "replication_hist2_list_sorted = sorted(replication_hist2_list, key=lambda x: x[1])\n",
    "\n",
    "mpd = MyPlotData()\n",
    "mpd_count = MyPlotData()\n",
    "i = 0\n",
    "for grc_id, count in replication_hist2_list_sorted:\n",
    "    mpd_count.add_data_point(\n",
    "        count=count,\n",
    "        grc_id=grc_id,\n",
    "        i=i,\n",
    "        model='Observed',\n",
    "    )\n",
    "    i += 1\n",
    "\n",
    "importlib.reload(my_plot); my_plot.my_relplot(\n",
    "    mpd_count,\n",
    "    x='i',\n",
    "    y='count',\n",
    "#     kind='hist',\n",
    "    context='paper',\n",
    "    linewidth=2.5,\n",
    "#     kde=True,\n",
    "#     stat='density',\n",
    "    ylim=[0, 18],\n",
    "    height=4,\n",
    "    aspect=2,\n",
    "    y_axis_label='# of 2-share GrC partners',\n",
    "    x_axis_label='Sorted GrCs',\n",
    "#     save_filename=f'{script_n}_line.svg',\n",
    "    show=True,\n",
    "    )\n"
   ]
  }
 ],
 "metadata": {
  "kernelspec": {
   "display_name": "Python 3 (ipykernel)",
   "language": "python",
   "name": "python3"
  },
  "language_info": {
   "codemirror_mode": {
    "name": "ipython",
    "version": 3
   },
   "file_extension": ".py",
   "mimetype": "text/x-python",
   "name": "python",
   "nbconvert_exporter": "python",
   "pygments_lexer": "ipython3",
   "version": "3.10.6"
  }
 },
 "nbformat": 4,
 "nbformat_minor": 5
}
