{
 "cells": [
  {
   "cell_type": "code",
   "execution_count": 4,
   "outputs": [],
   "source": [
    "# %pip install networkx\n",
    "# %pip install matplotlib\n",
    "# %pip install scipy"
   ],
   "metadata": {
    "collapsed": false,
    "ExecuteTime": {
     "end_time": "2023-11-29T09:03:57.491022Z",
     "start_time": "2023-11-29T09:03:57.484539Z"
    }
   },
   "id": "fd502ff5946899d2"
  },
  {
   "cell_type": "code",
   "execution_count": 2,
   "outputs": [],
   "source": [
    "import sys\n",
    "import numpy as np\n",
    "import gzip\n",
    "import pickle\n",
    "import networkx as nx\n",
    "import matplotlib\n",
    "import scipy\n",
    "\n"
   ],
   "metadata": {
    "collapsed": false,
    "ExecuteTime": {
     "end_time": "2023-11-29T09:03:02.503208Z",
     "start_time": "2023-11-29T09:03:00.003494Z"
    }
   },
   "id": "076b94d9"
  },
  {
   "cell_type": "markdown",
   "id": "7943dcfd",
   "metadata": {
    "pycharm": {
     "name": "#%% md\n"
    }
   },
   "source": [
    "First we test the binary graph"
   ]
  },
  {
   "cell_type": "code",
   "execution_count": 3,
   "id": "637ac2e5",
   "metadata": {
    "pycharm": {
     "name": "#%%\n"
    },
    "ExecuteTime": {
     "end_time": "2023-11-12T08:58:56.609227Z",
     "start_time": "2023-11-12T08:58:56.591250Z"
    }
   },
   "outputs": [],
   "source": [
    "G = load('./graph_mf_grc_binary_210519.gz')"
   ]
  },
  {
   "cell_type": "code",
   "execution_count": 4,
   "id": "8561f4c0",
   "metadata": {
    "pycharm": {
     "name": "#%%\n"
    },
    "ExecuteTime": {
     "end_time": "2023-11-12T08:58:56.652729Z",
     "start_time": "2023-11-12T08:58:56.622276Z"
    }
   },
   "outputs": [
    {
     "data": {
      "text/plain": "{'mf_id': 'mf_181', 'xyz': (353353, 403741, 6703), 'cell_type': 'mf'}"
     },
     "execution_count": 4,
     "metadata": {},
     "output_type": "execute_result"
    }
   ],
   "source": [
    "G.nodes['mf_181__1']"
   ]
  },
  {
   "cell_type": "code",
   "execution_count": 5,
   "id": "41214f9d",
   "metadata": {
    "pycharm": {
     "name": "#%%\n"
    },
    "ExecuteTime": {
     "end_time": "2023-11-12T08:58:56.657443Z",
     "start_time": "2023-11-12T08:58:56.638993Z"
    }
   },
   "outputs": [
    {
     "data": {
      "text/plain": "{'xyz': (344532, 408012, 5640), 'cell_type': 'grc'}"
     },
     "execution_count": 5,
     "metadata": {},
     "output_type": "execute_result"
    }
   ],
   "source": [
    "G.nodes['grc_1651']"
   ]
  },
  {
   "cell_type": "code",
   "execution_count": 6,
   "id": "a7bb864d",
   "metadata": {
    "pycharm": {
     "name": "#%%\n"
    },
    "ExecuteTime": {
     "end_time": "2023-11-12T08:58:56.657688Z",
     "start_time": "2023-11-12T08:58:56.642786Z"
    }
   },
   "outputs": [
    {
     "data": {
      "text/plain": "['grc_1651',\n 'grc_330',\n 'grc_1653',\n 'grc_335',\n 'grc_234',\n 'grc_2100',\n 'grc_303',\n 'grc_1855',\n 'grc_233',\n 'grc_324',\n 'grc_1792',\n 'grc_2214',\n 'grc_350',\n 'grc_1641',\n 'grc_1851',\n 'grc_341',\n 'grc_1682']"
     },
     "execution_count": 6,
     "metadata": {},
     "output_type": "execute_result"
    }
   ],
   "source": [
    "list(G.successors('mf_181__1'))"
   ]
  },
  {
   "cell_type": "markdown",
   "id": "f0234759",
   "metadata": {
    "pycharm": {
     "name": "#%% md\n"
    }
   },
   "source": [
    "Now we test the synapse graph. Each synapse is represented as an edge"
   ]
  },
  {
   "cell_type": "code",
   "execution_count": 7,
   "id": "dfe5a34f",
   "metadata": {
    "pycharm": {
     "name": "#%%\n"
    },
    "ExecuteTime": {
     "end_time": "2023-11-12T08:58:58.371658Z",
     "start_time": "2023-11-12T08:58:56.645308Z"
    }
   },
   "outputs": [],
   "source": [
    "G_all = load('./graph_mf_grc_synapse_210518_all.gz')"
   ]
  },
  {
   "cell_type": "code",
   "execution_count": 8,
   "id": "074f6a39",
   "metadata": {
    "pycharm": {
     "name": "#%%\n"
    },
    "ExecuteTime": {
     "end_time": "2023-11-12T08:58:58.375395Z",
     "start_time": "2023-11-12T08:58:58.371923Z"
    }
   },
   "outputs": [
    {
     "name": "stdout",
     "output_type": "stream",
     "text": [
      "{'cell_type': 'mf', 'tags': ['no_soma']}\n",
      "{'cell_type': 'grc', 'xyz': (1378128, 1632048, 5640), 'tags': []}\n"
     ]
    }
   ],
   "source": [
    "print(G_all.nodes['mf_181'])\n",
    "print(G_all.nodes['grc_1651'])"
   ]
  },
  {
   "cell_type": "markdown",
   "id": "545eef5b",
   "metadata": {
    "pycharm": {
     "name": "#%% md\n"
    }
   },
   "source": [
    "Since we have not extracted individual mf boutons here, there are no xyz positions for mf_181"
   ]
  },
  {
   "cell_type": "code",
   "execution_count": 9,
   "id": "4591ac0b",
   "metadata": {
    "pycharm": {
     "name": "#%%\n"
    },
    "ExecuteTime": {
     "end_time": "2023-11-12T08:58:58.378781Z",
     "start_time": "2023-11-12T08:58:58.375262Z"
    }
   },
   "outputs": [
    {
     "data": {
      "text/plain": "['grc_1651',\n 'grc_1761',\n 'grc_2096',\n 'grc_1127',\n 'grc_1298',\n 'grc_330',\n 'grc_1653',\n 'grc_335',\n 'grc_1276',\n 'grc_2228',\n 'grc_191',\n 'grc_958',\n 'grc_708',\n 'grc_967',\n 'grc_890',\n 'grc_719',\n 'grc_1175',\n 'grc_234',\n 'grc_1094',\n 'grc_2231',\n 'grc_2372',\n 'grc_1279',\n 'grc_1264',\n 'grc_1087',\n 'grc_784',\n 'grc_213',\n 'grc_779',\n 'grc_1263',\n 'grc_2328',\n 'grc_2296',\n 'grc_1272',\n 'grc_1282',\n 'grc_1290',\n 'grc_2107',\n 'grc_2101',\n 'grc_1170',\n 'grc_1129',\n 'grc_118',\n 'grc_1140',\n 'grc_1060',\n 'grc_1010',\n 'grc_2535',\n 'grc_2100',\n 'grc_303',\n 'grc_1855',\n 'grc_604',\n 'grc_1133',\n 'grc_772',\n 'grc_1893',\n 'grc_2159',\n 'grc_930',\n 'grc_943',\n 'grc_233',\n 'grc_1077',\n 'grc_777',\n 'grc_1049',\n 'grc_324',\n 'grc_1167',\n 'grc_1200',\n 'grc_1792',\n 'grc_1293',\n 'grc_2214',\n 'grc_350',\n 'grc_1641',\n 'grc_1851',\n 'grc_858',\n 'grc_1178',\n 'grc_781',\n 'grc_2176',\n 'grc_1090',\n 'grc_1051',\n 'grc_673',\n 'grc_341',\n 'grc_1682']"
     },
     "execution_count": 9,
     "metadata": {},
     "output_type": "execute_result"
    }
   ],
   "source": [
    "# print all grcs synapsed by mf_181\n",
    "list(G_all.successors('mf_181'))"
   ]
  },
  {
   "cell_type": "markdown",
   "id": "3eab654a",
   "metadata": {
    "pycharm": {
     "name": "#%% md\n"
    }
   },
   "source": [
    "Inspect synapse data for a random MF-GrC pair"
   ]
  },
  {
   "cell_type": "code",
   "execution_count": 10,
   "id": "27f27f14",
   "metadata": {
    "pycharm": {
     "name": "#%%\n"
    },
    "ExecuteTime": {
     "end_time": "2023-11-12T08:58:58.381582Z",
     "start_time": "2023-11-12T08:58:58.379187Z"
    }
   },
   "outputs": [
    {
     "name": "stdout",
     "output_type": "stream",
     "text": [
      "Number of synapses between mf_181 and grc_943: 11\n",
      "{'syn_loc': (112580, 116264, 528), 'syn_loc0': (450320, 465056, 21120), 'sf_pre': 13434258063672, 'sf_post': 13192356825852, 'pre_loc': (450384, 464912, 21120), 'post_loc': (450256, 465200, 21120), 'score': 489, 'props': {'area_erode0_no_realignment': {'mesh_area': 0.06242150307007857, 'mesh_diameter': 0.28191758751562734, 'ellipsoid_area': 0.066047320202812, 'ellipsoid_diameter': 0.2951959581375122, 'ellipsoid_area_drift': 0.06868452727413105, 'ellipsoid_diameter_drift': 0.29998744471995814}, 'area_erode0': {'pixel_count': 158, 'pixel_area': 0.05056, 'pixel_diameter': 0.2537222721437947, 'skeleton_area': 0.05871172243118286, 'skeleton_diameter': 0.27341193598469055, 'skeleton_longest_diameter': 350, 'mesh_area': 0.06084284732606434, 'mesh_diameter': 0.27832987484247745, 'ellipsoid_area': 0.066047320202812, 'ellipsoid_diameter': 0.2951959581375122, 'ellipsoid_area_drift': 0.0669332808880198, 'ellipsoid_diameter_drift': 0.296805641647736}, 'area_erode1_no_realignment': {'mesh_area': 0.054570303162897245, 'mesh_diameter': 0.263592617414045, 'ellipsoid_area': 0.058766223707729, 'ellipsoid_diameter': 0.2758822498321533, 'ellipsoid_area_drift': 0.06093114233645883, 'ellipsoid_diameter_drift': 0.2803029905069266}, 'area_erode1': {'pixel_count': 139, 'pixel_area': 0.04448, 'pixel_diameter': 0.23797834975018217, 'skeleton_area': 0.05110741661071777, 'skeleton_diameter': 0.2550921085765308, 'skeleton_longest_diameter': 311, 'mesh_area': 0.05327306375009143, 'mesh_diameter': 0.2604407253787581, 'ellipsoid_area': 0.058766223707729, 'ellipsoid_diameter': 0.2758822498321533, 'ellipsoid_area_drift': 0.05991505733786316, 'ellipsoid_diameter_drift': 0.2782281558121213}, 'area_erode2_no_realignment': {'mesh_area': 0.045091570667160415, 'mesh_diameter': 0.23960878720875148, 'ellipsoid_area': 0.05330540133641675, 'ellipsoid_diameter': 0.26139696860313416, 'ellipsoid_area_drift': 0.05581003110545426, 'ellipsoid_diameter_drift': 0.267035338538437}, 'area_erode2': {'pixel_count': 115, 'pixel_area': 0.0368, 'pixel_diameter': 0.2164606551922404, 'skeleton_area': 0.04170428829193115, 'skeleton_diameter': 0.23043339393048567, 'skeleton_longest_diameter': 282, 'mesh_area': 0.044208089843728725, 'mesh_diameter': 0.23724984338507019, 'ellipsoid_area': 0.05330540133641675, 'ellipsoid_diameter': 0.26139696860313416, 'ellipsoid_area_drift': 0.05396943376525336, 'ellipsoid_diameter_drift': 0.2628918244613144}, 'score': 489.69805908203125, 'raw_pred_pix_count': 559, 'z_length': 280}}\n"
     ]
    }
   ],
   "source": [
    "mf_id = 'mf_181'\n",
    "grc_id = 'grc_943'\n",
    "print(f\"Number of synapses between {mf_id} and {grc_id}: {len(G_all.adj[mf_id][grc_id])}\")\n",
    "# print an example\n",
    "print(G_all.adj[mf_id][grc_id][0])"
   ]
  },
  {
   "cell_type": "markdown",
   "id": "82b5a16a",
   "metadata": {
    "pycharm": {
     "name": "#%% md\n"
    }
   },
   "source": [
    "Note that these synapse area measurements are not validated yet (work-in-progress). We recommend that you use the binary connectivity graph for your research."
   ]
  },
  {
   "cell_type": "markdown",
   "id": "a1167bd7",
   "metadata": {
    "pycharm": {
     "name": "#%% md\n"
    }
   },
   "source": [
    "Now we test the coalesced synapse graph."
   ]
  },
  {
   "cell_type": "code",
   "execution_count": 11,
   "id": "abd52abd",
   "metadata": {
    "pycharm": {
     "name": "#%%\n"
    },
    "ExecuteTime": {
     "end_time": "2023-11-12T08:59:00.783564Z",
     "start_time": "2023-11-12T08:58:58.382283Z"
    }
   },
   "outputs": [],
   "source": [
    "G_coalesced = load('./graph_mf_grc_synapse_210518_coalesced.gz')"
   ]
  },
  {
   "cell_type": "code",
   "execution_count": 12,
   "id": "1ffd340b",
   "metadata": {
    "pycharm": {
     "name": "#%%\n"
    },
    "ExecuteTime": {
     "end_time": "2023-11-12T08:59:00.787499Z",
     "start_time": "2023-11-12T08:59:00.783942Z"
    }
   },
   "outputs": [
    {
     "name": "stdout",
     "output_type": "stream",
     "text": [
      "Number of synapses between mf_181 and grc_943: 10\n"
     ]
    }
   ],
   "source": [
    "print(f\"Number of synapses between {mf_id} and {grc_id}: {len(G_coalesced.adj[mf_id][grc_id])}\")"
   ]
  },
  {
   "cell_type": "markdown",
   "id": "461a328b",
   "metadata": {
    "pycharm": {
     "name": "#%% md\n"
    }
   },
   "source": [
    "Note that one pair of synapses has been merged."
   ]
  },
  {
   "cell_type": "code",
   "execution_count": 13,
   "id": "326a29d7",
   "metadata": {
    "pycharm": {
     "name": "#%%\n"
    },
    "ExecuteTime": {
     "end_time": "2023-11-12T08:59:00.790678Z",
     "start_time": "2023-11-12T08:59:00.787380Z"
    }
   },
   "outputs": [
    {
     "name": "stdout",
     "output_type": "stream",
     "text": [
      "grc_943\n"
     ]
    }
   ],
   "source": [
    "# This code checks for the difference in # of synapses between the two graphs\n",
    "for grc_id in list(G_all.successors('mf_181')):\n",
    "    if len(G_all.adj['mf_181'][grc_id]) != len(G_coalesced.adj['mf_181'][grc_id]):\n",
    "        print(grc_id)"
   ]
  },
  {
   "cell_type": "code",
   "execution_count": 15,
   "outputs": [
    {
     "ename": "KeyboardInterrupt",
     "evalue": "",
     "output_type": "error",
     "traceback": [
      "\u001B[0;31m---------------------------------------------------------------------------\u001B[0m",
      "\u001B[0;31mKeyboardInterrupt\u001B[0m                         Traceback (most recent call last)",
      "Cell \u001B[0;32mIn[15], line 1\u001B[0m\n\u001B[0;32m----> 1\u001B[0m \u001B[43mnx\u001B[49m\u001B[38;5;241;43m.\u001B[39;49m\u001B[43mdraw\u001B[49m\u001B[43m(\u001B[49m\u001B[43mG_coalesced\u001B[49m\u001B[43m)\u001B[49m\n\u001B[1;32m      2\u001B[0m \u001B[38;5;28mlen\u001B[39m(G_coalesced\u001B[38;5;241m.\u001B[39mnodes)\n",
      "File \u001B[0;32m~/Desktop/GitHub/CerebellumRandomGraph/venv/lib/python3.8/site-packages/networkx/drawing/nx_pylab.py:121\u001B[0m, in \u001B[0;36mdraw\u001B[0;34m(G, pos, ax, **kwds)\u001B[0m\n\u001B[1;32m    118\u001B[0m \u001B[38;5;28;01mif\u001B[39;00m \u001B[38;5;124m\"\u001B[39m\u001B[38;5;124mwith_labels\u001B[39m\u001B[38;5;124m\"\u001B[39m \u001B[38;5;129;01mnot\u001B[39;00m \u001B[38;5;129;01min\u001B[39;00m kwds:\n\u001B[1;32m    119\u001B[0m     kwds[\u001B[38;5;124m\"\u001B[39m\u001B[38;5;124mwith_labels\u001B[39m\u001B[38;5;124m\"\u001B[39m] \u001B[38;5;241m=\u001B[39m \u001B[38;5;124m\"\u001B[39m\u001B[38;5;124mlabels\u001B[39m\u001B[38;5;124m\"\u001B[39m \u001B[38;5;129;01min\u001B[39;00m kwds\n\u001B[0;32m--> 121\u001B[0m \u001B[43mdraw_networkx\u001B[49m\u001B[43m(\u001B[49m\u001B[43mG\u001B[49m\u001B[43m,\u001B[49m\u001B[43m \u001B[49m\u001B[43mpos\u001B[49m\u001B[38;5;241;43m=\u001B[39;49m\u001B[43mpos\u001B[49m\u001B[43m,\u001B[49m\u001B[43m \u001B[49m\u001B[43max\u001B[49m\u001B[38;5;241;43m=\u001B[39;49m\u001B[43max\u001B[49m\u001B[43m,\u001B[49m\u001B[43m \u001B[49m\u001B[38;5;241;43m*\u001B[39;49m\u001B[38;5;241;43m*\u001B[39;49m\u001B[43mkwds\u001B[49m\u001B[43m)\u001B[49m\n\u001B[1;32m    122\u001B[0m ax\u001B[38;5;241m.\u001B[39mset_axis_off()\n\u001B[1;32m    123\u001B[0m plt\u001B[38;5;241m.\u001B[39mdraw_if_interactive()\n",
      "File \u001B[0;32m~/Desktop/GitHub/CerebellumRandomGraph/venv/lib/python3.8/site-packages/networkx/drawing/nx_pylab.py:301\u001B[0m, in \u001B[0;36mdraw_networkx\u001B[0;34m(G, pos, arrows, with_labels, **kwds)\u001B[0m\n\u001B[1;32m    298\u001B[0m label_kwds \u001B[38;5;241m=\u001B[39m {k: v \u001B[38;5;28;01mfor\u001B[39;00m k, v \u001B[38;5;129;01min\u001B[39;00m kwds\u001B[38;5;241m.\u001B[39mitems() \u001B[38;5;28;01mif\u001B[39;00m k \u001B[38;5;129;01min\u001B[39;00m valid_label_kwds}\n\u001B[1;32m    300\u001B[0m \u001B[38;5;28;01mif\u001B[39;00m pos \u001B[38;5;129;01mis\u001B[39;00m \u001B[38;5;28;01mNone\u001B[39;00m:\n\u001B[0;32m--> 301\u001B[0m     pos \u001B[38;5;241m=\u001B[39m \u001B[43mnx\u001B[49m\u001B[38;5;241;43m.\u001B[39;49m\u001B[43mdrawing\u001B[49m\u001B[38;5;241;43m.\u001B[39;49m\u001B[43mspring_layout\u001B[49m\u001B[43m(\u001B[49m\u001B[43mG\u001B[49m\u001B[43m)\u001B[49m  \u001B[38;5;66;03m# default to spring layout\u001B[39;00m\n\u001B[1;32m    303\u001B[0m draw_networkx_nodes(G, pos, \u001B[38;5;241m*\u001B[39m\u001B[38;5;241m*\u001B[39mnode_kwds)\n\u001B[1;32m    304\u001B[0m draw_networkx_edges(G, pos, arrows\u001B[38;5;241m=\u001B[39marrows, \u001B[38;5;241m*\u001B[39m\u001B[38;5;241m*\u001B[39medge_kwds)\n",
      "File \u001B[0;32m<class 'networkx.utils.decorators.argmap'> compilation 4:4\u001B[0m, in \u001B[0;36margmap_spring_layout_1\u001B[0;34m(G, k, pos, fixed, iterations, threshold, weight, scale, center, dim, seed)\u001B[0m\n\u001B[1;32m      2\u001B[0m \u001B[38;5;28;01mimport\u001B[39;00m \u001B[38;5;21;01mcollections\u001B[39;00m\n\u001B[1;32m      3\u001B[0m \u001B[38;5;28;01mimport\u001B[39;00m \u001B[38;5;21;01mgzip\u001B[39;00m\n\u001B[0;32m----> 4\u001B[0m \u001B[38;5;28;01mimport\u001B[39;00m \u001B[38;5;21;01minspect\u001B[39;00m\n\u001B[1;32m      5\u001B[0m \u001B[38;5;28;01mimport\u001B[39;00m \u001B[38;5;21;01mitertools\u001B[39;00m\n\u001B[1;32m      6\u001B[0m \u001B[38;5;28;01mimport\u001B[39;00m \u001B[38;5;21;01mre\u001B[39;00m\n",
      "File \u001B[0;32m~/Desktop/GitHub/CerebellumRandomGraph/venv/lib/python3.8/site-packages/networkx/drawing/layout.py:482\u001B[0m, in \u001B[0;36mspring_layout\u001B[0;34m(G, k, pos, fixed, iterations, threshold, weight, scale, center, dim, seed)\u001B[0m\n\u001B[1;32m    480\u001B[0m         nnodes, _ \u001B[38;5;241m=\u001B[39m A\u001B[38;5;241m.\u001B[39mshape\n\u001B[1;32m    481\u001B[0m         k \u001B[38;5;241m=\u001B[39m dom_size \u001B[38;5;241m/\u001B[39m np\u001B[38;5;241m.\u001B[39msqrt(nnodes)\n\u001B[0;32m--> 482\u001B[0m     pos \u001B[38;5;241m=\u001B[39m \u001B[43m_sparse_fruchterman_reingold\u001B[49m\u001B[43m(\u001B[49m\n\u001B[1;32m    483\u001B[0m \u001B[43m        \u001B[49m\u001B[43mA\u001B[49m\u001B[43m,\u001B[49m\u001B[43m \u001B[49m\u001B[43mk\u001B[49m\u001B[43m,\u001B[49m\u001B[43m \u001B[49m\u001B[43mpos_arr\u001B[49m\u001B[43m,\u001B[49m\u001B[43m \u001B[49m\u001B[43mfixed\u001B[49m\u001B[43m,\u001B[49m\u001B[43m \u001B[49m\u001B[43miterations\u001B[49m\u001B[43m,\u001B[49m\u001B[43m \u001B[49m\u001B[43mthreshold\u001B[49m\u001B[43m,\u001B[49m\u001B[43m \u001B[49m\u001B[43mdim\u001B[49m\u001B[43m,\u001B[49m\u001B[43m \u001B[49m\u001B[43mseed\u001B[49m\n\u001B[1;32m    484\u001B[0m \u001B[43m    \u001B[49m\u001B[43m)\u001B[49m\n\u001B[1;32m    485\u001B[0m \u001B[38;5;28;01mexcept\u001B[39;00m \u001B[38;5;167;01mValueError\u001B[39;00m:\n\u001B[1;32m    486\u001B[0m     A \u001B[38;5;241m=\u001B[39m nx\u001B[38;5;241m.\u001B[39mto_numpy_array(G, weight\u001B[38;5;241m=\u001B[39mweight)\n",
      "File \u001B[0;32m<class 'networkx.utils.decorators.argmap'> compilation 8:4\u001B[0m, in \u001B[0;36margmap__sparse_fruchterman_reingold_5\u001B[0;34m(A, k, pos, fixed, iterations, threshold, dim, seed)\u001B[0m\n\u001B[1;32m      2\u001B[0m \u001B[38;5;28;01mimport\u001B[39;00m \u001B[38;5;21;01mcollections\u001B[39;00m\n\u001B[1;32m      3\u001B[0m \u001B[38;5;28;01mimport\u001B[39;00m \u001B[38;5;21;01mgzip\u001B[39;00m\n\u001B[0;32m----> 4\u001B[0m \u001B[38;5;28;01mimport\u001B[39;00m \u001B[38;5;21;01minspect\u001B[39;00m\n\u001B[1;32m      5\u001B[0m \u001B[38;5;28;01mimport\u001B[39;00m \u001B[38;5;21;01mitertools\u001B[39;00m\n\u001B[1;32m      6\u001B[0m \u001B[38;5;28;01mimport\u001B[39;00m \u001B[38;5;21;01mre\u001B[39;00m\n",
      "File \u001B[0;32m~/Desktop/GitHub/CerebellumRandomGraph/venv/lib/python3.8/site-packages/networkx/drawing/layout.py:616\u001B[0m, in \u001B[0;36m_sparse_fruchterman_reingold\u001B[0;34m(A, k, pos, fixed, iterations, threshold, dim, seed)\u001B[0m\n\u001B[1;32m    614\u001B[0m     \u001B[38;5;28;01mcontinue\u001B[39;00m\n\u001B[1;32m    615\u001B[0m \u001B[38;5;66;03m# difference between this row's node position and all others\u001B[39;00m\n\u001B[0;32m--> 616\u001B[0m delta \u001B[38;5;241m=\u001B[39m (\u001B[43mpos\u001B[49m\u001B[43m[\u001B[49m\u001B[43mi\u001B[49m\u001B[43m]\u001B[49m\u001B[43m \u001B[49m\u001B[38;5;241;43m-\u001B[39;49m\u001B[43m \u001B[49m\u001B[43mpos\u001B[49m)\u001B[38;5;241m.\u001B[39mT\n\u001B[1;32m    617\u001B[0m \u001B[38;5;66;03m# distance between points\u001B[39;00m\n\u001B[1;32m    618\u001B[0m distance \u001B[38;5;241m=\u001B[39m np\u001B[38;5;241m.\u001B[39msqrt((delta\u001B[38;5;241m*\u001B[39m\u001B[38;5;241m*\u001B[39m\u001B[38;5;241m2\u001B[39m)\u001B[38;5;241m.\u001B[39msum(axis\u001B[38;5;241m=\u001B[39m\u001B[38;5;241m0\u001B[39m))\n",
      "\u001B[0;31mKeyboardInterrupt\u001B[0m: "
     ]
    },
    {
     "data": {
      "text/plain": "<Figure size 640x480 with 1 Axes>",
      "image/png": "[encoded data removed]"
     },
     "metadata": {},
     "output_type": "display_data"
    }
   ],
   "source": [
    "nx.draw(G_coalesced)\n"
   ],
   "metadata": {
    "collapsed": false,
    "pycharm": {
     "name": "#%%\n"
    },
    "ExecuteTime": {
     "end_time": "2023-11-14T20:50:32.069341Z",
     "start_time": "2023-11-14T20:50:28.756940Z"
    }
   },
   "id": "5ab5b7c386107908"
  },
  {
   "cell_type": "code",
   "execution_count": 16,
   "outputs": [
    {
     "data": {
      "text/plain": "4700"
     },
     "execution_count": 16,
     "metadata": {},
     "output_type": "execute_result"
    }
   ],
   "source": [
    "len(G_coalesced.nodes)"
   ],
   "metadata": {
    "collapsed": false,
    "pycharm": {
     "name": "#%%\n"
    },
    "ExecuteTime": {
     "end_time": "2023-11-14T20:50:37.276441Z",
     "start_time": "2023-11-14T20:50:37.264895Z"
    }
   },
   "id": "cf3ea6b0230afc39"
  },
  {
   "cell_type": "code",
   "execution_count": 5,
   "outputs": [],
   "source": [],
   "metadata": {
    "collapsed": false,
    "ExecuteTime": {
     "end_time": "2023-12-07T01:09:21.714214Z",
     "start_time": "2023-12-07T01:09:21.648450Z"
    }
   },
   "id": "53d8f889c69ef601"
  }
 ],
 "metadata": {
  "kernelspec": {
   "display_name": "Python 3 (ipykernel)",
   "language": "python",
   "name": "python3"
  },
  "language_info": {
   "codemirror_mode": {
    "name": "ipython",
    "version": 3
   },
   "file_extension": ".py",
   "mimetype": "text/x-python",
   "name": "python",
   "nbconvert_exporter": "python",
   "pygments_lexer": "ipython3",
   "version": "3.10.6"
  }
 },
 "nbformat": 4,
 "nbformat_minor": 5
}
